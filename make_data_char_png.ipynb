{
 "cells": [
  {
   "cell_type": "code",
   "execution_count": 1,
   "id": "c4015270",
   "metadata": {},
   "outputs": [],
   "source": [
    "# https://github.com/kaonashi-tyc/zi2zi\n",
    "\n",
    "# -*- coding: utf-8 -*-\n",
    "\n",
    "import argparse\n",
    "import sys\n",
    "import glob\n",
    "import numpy as np\n",
    "import io, os\n",
    "from PIL import Image\n",
    "from PIL import ImageDraw\n",
    "from PIL import ImageFont\n",
    "import collections\n",
    "\n",
    "SRC_PATH = './fonts/source/'\n",
    "TRG_PATH = './fonts/target/'\n",
    "OUTPUT_PATH = './dataset/'\n",
    "\n",
    "\n",
    "def draw_single_char(ch, font, canvas_size):\n",
    "    image = Image.new('L', (canvas_size, canvas_size), color=255)\n",
    "    drawing = ImageDraw.Draw(image)\n",
    "    w, h = drawing.textsize(ch, font=font)\n",
    "    drawing.text(\n",
    "        ((canvas_size-w)/2, (canvas_size-h)/2),\n",
    "        ch,\n",
    "        fill=(0),\n",
    "        font=font\n",
    "    )\n",
    "    flag = np.sum(np.array(image))\n",
    "    \n",
    "    # 해당 font에 글자가 없으면 return None\n",
    "    if flag == 255 * 128 * 128:\n",
    "        return None\n",
    "    \n",
    "    return image\n",
    "\n",
    "\n",
    "def draw_example(ch, src_font, dst_font, canvas_size):\n",
    "    dst_img = draw_single_char(ch, dst_font, canvas_size)\n",
    "    \n",
    "    # 해당 font에 글자가 없으면 return None\n",
    "    if not dst_img:\n",
    "        return None\n",
    "    \n",
    "    src_img = draw_single_char(ch, src_font, canvas_size)\n",
    "    example_img = Image.new(\"RGB\", (canvas_size * 2, canvas_size), (255, 255, 255)).convert('L')\n",
    "    example_img.paste(dst_img, (0, 0))\n",
    "    example_img.paste(src_img, (canvas_size, 0))   \n",
    "    return example_img\n",
    "\n",
    "\n",
    "def draw_handwriting(ch, src_font, canvas_size, dst_folder, label, count):\n",
    "    dst_path = dst_folder + \"%d_%04d\" % (label, count) + \".png\"\n",
    "    dst_img = Image.open(dst_path)\n",
    "    src_img = draw_single_char(ch, src_font, canvas_size)\n",
    "    example_img = Image.new(\"RGB\", (canvas_size * 2, canvas_size), (255, 255, 255)).convert('L')\n",
    "    example_img.paste(dst_img, (0, 0))\n",
    "    example_img.paste(src_img, (canvas_size, 0))\n",
    "    return example_img\n",
    "\n",
    "#draw_handwriting('가', 'source_font.ttf', 32, './fonts/', 1, 10)\n",
    "\n"
   ]
  },
  {
   "cell_type": "code",
   "execution_count": 2,
   "id": "816b8d08",
   "metadata": {},
   "outputs": [
    {
     "data": {
      "image/png": "[encoded data removed]",
      "text/plain": [
       "<PIL.Image.Image image mode=L size=128x64 at 0x7F2929509EF0>"
      ]
     },
     "execution_count": 2,
     "metadata": {},
     "output_type": "execute_result"
    }
   ],
   "source": [
    "\n",
    "src_font = ImageFont.truetype(SRC_PATH + '/source_font.ttf', round(512* 0.1))\n",
    "dst_font = ImageFont.truetype(TRG_PATH + '/42.ttf', round(512 * 0.1))\n",
    "\n",
    "draw_example('폰', src_font, dst_font, 64)"
   ]
  },
  {
   "cell_type": "code",
   "execution_count": 3,
   "id": "813942c0",
   "metadata": {},
   "outputs": [
    {
     "data": {
      "image/png": "[encoded data removed]",
      "text/plain": [
       "<PIL.Image.Image image mode=L size=64x64 at 0x7F29294C1780>"
      ]
     },
     "execution_count": 3,
     "metadata": {},
     "output_type": "execute_result"
    }
   ],
   "source": [
    "draw_single_char('폰', dst_font, 64)"
   ]
  },
  {
   "cell_type": "code",
   "execution_count": 21,
   "id": "268c8844",
   "metadata": {},
   "outputs": [
    {
     "data": {
      "text/plain": [
       "<PIL.ImageFont.FreeTypeFont at 0x7f29294c1828>"
      ]
     },
     "execution_count": 21,
     "metadata": {},
     "output_type": "execute_result"
    }
   ],
   "source": [
    "src_font"
   ]
  },
  {
   "cell_type": "code",
   "execution_count": 29,
   "id": "5de51654",
   "metadata": {},
   "outputs": [
    {
     "data": {
      "image/png": "[encoded data removed]",
      "text/plain": [
       "<PIL.Image.Image image mode=L size=128x64 at 0x7F288B4E1DD8>"
      ]
     },
     "execution_count": 29,
     "metadata": {},
     "output_type": "execute_result"
    }
   ],
   "source": [
    "dst_folder = TRG_PATH\n",
    "draw_handwriting('폰', src_font, 64, dst_folder, 6, 14)"
   ]
  },
  {
   "cell_type": "code",
   "execution_count": 4,
   "id": "994a624e",
   "metadata": {},
   "outputs": [],
   "source": [
    "char_list = []\n",
    "f = open(\"./2350-common-hangul.txt\", 'r')\n",
    "while True:\n",
    "    line = f.readline().rstrip()\n",
    "    if not line: break\n",
    "    char_list.append(line)\n",
    "f.close()"
   ]
  },
  {
   "cell_type": "code",
   "execution_count": 5,
   "id": "dfcb2c00",
   "metadata": {},
   "outputs": [
    {
     "data": {
      "text/plain": [
       "2350"
      ]
     },
     "execution_count": 5,
     "metadata": {},
     "output_type": "execute_result"
    }
   ],
   "source": [
    "len(char_list)"
   ]
  },
  {
   "cell_type": "code",
   "execution_count": 7,
   "id": "9cab8ed2",
   "metadata": {},
   "outputs": [],
   "source": [
    "from glob import glob\n",
    "import numpy as np\n",
    "from PIL import Image"
   ]
  },
  {
   "cell_type": "code",
   "execution_count": 9,
   "id": "ace80922",
   "metadata": {},
   "outputs": [
    {
     "data": {
      "text/plain": [
       "'./fonts/target/01.ttf'"
      ]
     },
     "execution_count": 9,
     "metadata": {},
     "output_type": "execute_result"
    }
   ],
   "source": [
    "ttf_target = glob(TRG_PATH+\"/*\")\n",
    "ttf_target[0]"
   ]
  },
  {
   "cell_type": "code",
   "execution_count": 12,
   "id": "a7cc7456",
   "metadata": {
    "scrolled": true
   },
   "outputs": [
    {
     "data": {
      "text/plain": [
       "'./fonts/target/'"
      ]
     },
     "execution_count": 12,
     "metadata": {},
     "output_type": "execute_result"
    }
   ],
   "source": [
    "TRG_PATH"
   ]
  },
  {
   "cell_type": "code",
   "execution_count": 17,
   "id": "559f12fa",
   "metadata": {},
   "outputs": [
    {
     "data": {
      "text/plain": [
       "'01'"
      ]
     },
     "execution_count": 17,
     "metadata": {},
     "output_type": "execute_result"
    }
   ],
   "source": [
    "ttf_target[0].split('/')[3].split('.')[0]"
   ]
  },
  {
   "cell_type": "code",
   "execution_count": 19,
   "id": "739c85ae",
   "metadata": {
    "scrolled": true
   },
   "outputs": [],
   "source": [
    "\n",
    "for num, i in enumerate(ttf_target): \n",
    "    dst_font = ImageFont.truetype(i, round(512 * 0.1))\n",
    "    for cnt, t in enumerate(char_list):\n",
    "        image = draw_single_char(t, dst_font, 128)\n",
    "        fname = TRG_PATH + \"%d_%04d\" % (num, cnt) + \".png\"\n",
    "        image.save(fname, 'png')\n",
    "        "
   ]
  },
  {
   "cell_type": "code",
   "execution_count": 15,
   "id": "71fe2687",
   "metadata": {},
   "outputs": [
    {
     "name": "stdout",
     "output_type": "stream",
     "text": [
      "./fonts/target/1_0001.png\n"
     ]
    }
   ],
   "source": [
    "label=1\n",
    "count=1\n",
    "\n",
    "print(TRG_PATH + \"%d_%04d\" % (label, count) + \".png\")"
   ]
  },
  {
   "cell_type": "code",
   "execution_count": null,
   "id": "9243c9fa",
   "metadata": {},
   "outputs": [],
   "source": []
  }
 ],
 "metadata": {
  "kernelspec": {
   "display_name": "Python 3",
   "language": "python",
   "name": "python3"
  },
  "language_info": {
   "codemirror_mode": {
    "name": "ipython",
    "version": 3
   },
   "file_extension": ".py",
   "mimetype": "text/x-python",
   "name": "python",
   "nbconvert_exporter": "python",
   "pygments_lexer": "ipython3",
   "version": "3.6.10"
  }
 },
 "nbformat": 4,
 "nbformat_minor": 5
}
